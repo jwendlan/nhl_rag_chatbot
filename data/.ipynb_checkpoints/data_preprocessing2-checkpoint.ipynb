{
 "cells": [
  {
   "cell_type": "code",
   "execution_count": 1,
   "id": "e604af99",
   "metadata": {},
   "outputs": [
    {
     "name": "stdout",
     "output_type": "stream",
     "text": [
      "  team  season name team.1    position situation  games_played  \\\n",
      "0  MIN    2008  MIN    MIN  Team Level     other            82   \n",
      "1  MIN    2008  MIN    MIN  Team Level       all            82   \n",
      "2  MIN    2008  MIN    MIN  Team Level      5on5            82   \n",
      "3  MIN    2008  MIN    MIN  Team Level      4on5            82   \n",
      "4  MIN    2008  MIN    MIN  Team Level      5on4            82   \n",
      "\n",
      "   xGoalsPercentage  corsiPercentage  fenwickPercentage  ...  \\\n",
      "0              0.48             0.49               0.49  ...   \n",
      "1              0.48             0.48               0.48  ...   \n",
      "2              0.46             0.47               0.47  ...   \n",
      "3              0.13             0.12               0.14  ...   \n",
      "4              0.88             0.88               0.86  ...   \n",
      "\n",
      "   scoreAdjustedShotsAttemptsAgainst  unblockedShotAttemptsAgainst  \\\n",
      "0                             285.00                         218.0   \n",
      "1                            4490.31                        3467.0   \n",
      "2                            3367.31                        2575.0   \n",
      "3                             735.00                         579.0   \n",
      "4                             103.00                          95.0   \n",
      "\n",
      "   scoreAdjustedUnblockedShotAttemptsAgainst  dZoneGiveawaysAgainst  \\\n",
      "0                                     218.00                    7.0   \n",
      "1                                    3459.72                  257.0   \n",
      "2                                    2567.72                  221.0   \n",
      "3                                     579.00                    1.0   \n",
      "4                                      95.00                   28.0   \n",
      "\n",
      "   xGoalsFromxReboundsOfShotsAgainst  xGoalsFromActualReboundsOfShotsAgainst  \\\n",
      "0                               3.09                                    2.24   \n",
      "1                              36.30                                   27.99   \n",
      "2                              23.18                                   17.52   \n",
      "3                               9.34                                    7.21   \n",
      "4                               0.69                                    1.02   \n",
      "\n",
      "   reboundxGoalsAgainst  totalShotCreditAgainst  \\\n",
      "0                  2.22                   21.35   \n",
      "1                 29.58                  204.64   \n",
      "2                 18.56                  134.99   \n",
      "3                  7.36                   43.14   \n",
      "4                  1.43                    5.15   \n",
      "\n",
      "   scoreAdjustedTotalShotCreditAgainst  \\\n",
      "0                                21.35   \n",
      "1                               204.38   \n",
      "2                               134.73   \n",
      "3                                43.14   \n",
      "4                                 5.15   \n",
      "\n",
      "   scoreFlurryAdjustedTotalShotCreditAgainst  \n",
      "0                                      20.46  \n",
      "1                                     200.25  \n",
      "2                                     133.06  \n",
      "3                                      41.59  \n",
      "4                                       5.14  \n",
      "\n",
      "[5 rows x 107 columns]\n"
     ]
    }
   ],
   "source": [
    "import pandas as pd\n",
    "\n",
    "# Replace with your actual path\n",
    "df = pd.read_csv('/Users/carlg/Desktop/Code/School/Columbia/DL/nhl_rag_chatbot/data/teams.csv')\n",
    "\n",
    "# Preview the data\n",
    "print(df.head())"
   ]
  },
  {
   "cell_type": "code",
   "execution_count": 4,
   "id": "41d867b4",
   "metadata": {},
   "outputs": [],
   "source": [
    "import json\n",
    "# df = df.drop(columns=['team.1'], errors='ignore')\n",
    "\n",
    "# # Convert each row into a readable paragraph\n",
    "# def row_to_text(row):\n",
    "#     parts = [f\"{col}: {row[col]}\" for col in df.columns]\n",
    "#     return \", \".join(parts)\n",
    "\n",
    "# # Combine all rows into one big string\n",
    "# full_text = '\\n\\n'.join(df.apply(row_to_text, axis=1))\n",
    "\n",
    "# # Save to text file\n",
    "# with open('nhl_stats_full.txt', 'w') as f:\n",
    "#     f.write(full_text)\n",
    "    \n",
    "df = df.drop(columns=['team.1'], errors='ignore')\n",
    "\n",
    "# Convert DataFrame to list of dicts (each row is a dict)\n",
    "data_as_json = df.to_dict(orient='records')\n",
    "\n",
    "# Save to text file in JSON format\n",
    "with open('nhl_stats_full.txt', 'w') as f:\n",
    "    json.dump(data_as_json, f, indent=4)"
   ]
  },
  {
   "cell_type": "code",
   "execution_count": null,
   "id": "404ff5ad",
   "metadata": {},
   "outputs": [],
   "source": []
  }
 ],
 "metadata": {
  "kernelspec": {
   "display_name": "Python 3 (ipykernel)",
   "language": "python",
   "name": "python3"
  },
  "language_info": {
   "codemirror_mode": {
    "name": "ipython",
    "version": 3
   },
   "file_extension": ".py",
   "mimetype": "text/x-python",
   "name": "python",
   "nbconvert_exporter": "python",
   "pygments_lexer": "ipython3",
   "version": "3.11.4"
  }
 },
 "nbformat": 4,
 "nbformat_minor": 5
}
